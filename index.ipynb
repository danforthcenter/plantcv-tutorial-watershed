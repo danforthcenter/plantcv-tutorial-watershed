{
 "cells": [
  {
   "cell_type": "markdown",
   "id": "864b204e-cb51-44d7-8647-74097e8bd607",
   "metadata": {},
   "source": [
    "# Watershed Segmentation Tutorial\n",
    "\n",
    "**To get function help, click within the function parentheses then click shift+tab**\n",
    "\n",
    "**Remember to use tab for autocompletion**\n",
    "\n",
    "The Watershed Segmentation Function is a PlantCV function based on code contributed by Suxing Liu, Arkansas State University. \n",
    "For more information see https://github.com/lsx1980/Leaf_count. \n",
    "This function uses the watershed algorithm to detect boundary of objects. \n",
    "Needs a mask file which specifies area which is object is white, and background is black. "
   ]
  },
  {
   "cell_type": "code",
   "execution_count": 1,
   "id": "e9fbca1e-0b0b-4f1d-94d1-04dcb447b8f0",
   "metadata": {
    "tags": []
   },
   "outputs": [],
   "source": [
    "# Set the notebook display method\n",
    "# If widget is not working, then change to inline\n",
    "%matplotlib widget"
   ]
  },
  {
   "cell_type": "markdown",
   "id": "fa661c99-4294-41b8-b95d-b376a54a2d33",
   "metadata": {
    "id": "604065b5"
   },
   "source": [
    "# Section 1: Importing Image and Libraries"
   ]
  },
  {
   "cell_type": "code",
   "execution_count": 2,
   "id": "d6152bb0-6378-4000-90b4-c0892c2cf4a1",
   "metadata": {
    "id": "62ef791b"
   },
   "outputs": [
    {
     "data": {
      "text/plain": [
       "'4.8.dev4+g438ee392'"
      ]
     },
     "execution_count": 2,
     "metadata": {},
     "output_type": "execute_result"
    }
   ],
   "source": [
    "# Import libraries\n",
    "from plantcv import plantcv as pcv\n",
    "from plantcv.parallel import WorkflowInputs\n",
    "\n",
    "# Print out the version of PlantCV being used by the Jupyter kernel\n",
    "pcv.__version__"
   ]
  },
  {
   "cell_type": "markdown",
   "id": "65e1e85d-1a40-4b20-88ec-9074ec88eaa6",
   "metadata": {
    "id": "4468af74"
   },
   "source": [
    "## Input/Output variables\n",
    "\n",
    "The options class mimics the workflow command-line argument parser that is used for workflow parallelization. Using it while developing a workflow in Jupyter makes it easier to convert the workflow to a script later."
   ]
  },
  {
   "cell_type": "code",
   "execution_count": 3,
   "id": "1e7e9b03",
   "metadata": {},
   "outputs": [],
   "source": [
    "# Input/output options\n",
    "args = WorkflowInputs(\n",
    "    images=[\"./img/arabidopsis.jpg\"],\n",
    "    names=\"image1\",\n",
    "    result=\"segmentation_results.json\",\n",
    "    outdir=\".\",\n",
    "    writeimg=False,\n",
    "    debug=\"plot\"\n",
    "    )"
   ]
  },
  {
   "cell_type": "code",
   "execution_count": 4,
   "id": "223254b4",
   "metadata": {},
   "outputs": [],
   "source": [
    "# Set debug to the global parameter \n",
    "pcv.params.debug = args.debug\n",
    "# Change display settings\n",
    "pcv.params.dpi = 100\n",
    "pcv.params.text_size = 20\n",
    "pcv.params.text_thickness = 20"
   ]
  },
  {
   "cell_type": "markdown",
   "id": "aa813421-da28-4999-a5ff-0528d4587d95",
   "metadata": {
    "id": "343a0816"
   },
   "source": [
    "## Read the input image"
   ]
  },
  {
   "cell_type": "markdown",
   "id": "628920f2-1c7d-4fa6-9f7c-9fe2a51fb7f0",
   "metadata": {
    "id": "Q4Na59TNNg1x"
   },
   "source": [
    "### Reading images into your environment using *pcv.readimage()*\n",
    "Inputs:\n",
    "   * filename = Image file to be read in\n",
    "   * mode     = How the image will be read into the notebook; either 'native' (default), 'rgb', 'gray', 'csv', or 'envi'"
   ]
  },
  {
   "cell_type": "code",
   "execution_count": 5,
   "id": "964f1012",
   "metadata": {},
   "outputs": [
    {
     "name": "stderr",
     "output_type": "stream",
     "text": [
      "[ WARN:0@2.920] global loadsave.cpp:268 findDecoder imread_('./img/arabidopsis.jpg'): can't open/read file: check file path/integrity\n"
     ]
    },
    {
     "ename": "RuntimeError",
     "evalue": "Failed to open ./img/arabidopsis.jpg",
     "output_type": "error",
     "traceback": [
      "\u001b[31m---------------------------------------------------------------------------\u001b[39m",
      "\u001b[31mRuntimeError\u001b[39m                              Traceback (most recent call last)",
      "\u001b[36mCell\u001b[39m\u001b[36m \u001b[39m\u001b[32mIn[5]\u001b[39m\u001b[32m, line 1\u001b[39m\n\u001b[32m----> \u001b[39m\u001b[32m1\u001b[39m img, path, filename = \u001b[43mpcv\u001b[49m\u001b[43m.\u001b[49m\u001b[43mreadimage\u001b[49m\u001b[43m(\u001b[49m\u001b[43mfilename\u001b[49m\u001b[43m=\u001b[49m\u001b[43margs\u001b[49m\u001b[43m.\u001b[49m\u001b[43mimage1\u001b[49m\u001b[43m)\u001b[49m\n",
      "\u001b[36mFile \u001b[39m\u001b[32m~/Documents/github/plantcv/build/__editable__.plantcv-4.8.dev4+g438ee392-py3-none-any/plantcv/plantcv/readimage.py:51\u001b[39m, in \u001b[36mreadimage\u001b[39m\u001b[34m(filename, mode)\u001b[39m\n\u001b[32m     48\u001b[39m     img = cv2.imread(filename)\n\u001b[32m     50\u001b[39m \u001b[38;5;28;01mif\u001b[39;00m img \u001b[38;5;129;01mis\u001b[39;00m \u001b[38;5;28;01mNone\u001b[39;00m:\n\u001b[32m---> \u001b[39m\u001b[32m51\u001b[39m     \u001b[43mfatal_error\u001b[49m\u001b[43m(\u001b[49m\u001b[33;43m\"\u001b[39;49m\u001b[33;43mFailed to open \u001b[39;49m\u001b[33;43m\"\u001b[39;49m\u001b[43m \u001b[49m\u001b[43m+\u001b[49m\u001b[43m \u001b[49m\u001b[43mfilename\u001b[49m\u001b[43m)\u001b[49m\n\u001b[32m     53\u001b[39m \u001b[38;5;66;03m# Split path from filename\u001b[39;00m\n\u001b[32m     54\u001b[39m path, img_name = os.path.split(filename)\n",
      "\u001b[36mFile \u001b[39m\u001b[32m~/Documents/github/plantcv/build/__editable__.plantcv-4.8.dev4+g438ee392-py3-none-any/plantcv/plantcv/fatal_error.py:13\u001b[39m, in \u001b[36mfatal_error\u001b[39m\u001b[34m(error)\u001b[39m\n\u001b[32m      4\u001b[39m \u001b[38;5;28;01mdef\u001b[39;00m\u001b[38;5;250m \u001b[39m\u001b[34mfatal_error\u001b[39m(error):\n\u001b[32m      5\u001b[39m \u001b[38;5;250m    \u001b[39m\u001b[33;03m\"\"\"Print out the error message that gets passed, then quit the program.\u001b[39;00m\n\u001b[32m      6\u001b[39m \n\u001b[32m      7\u001b[39m \u001b[33;03m    Inputs:\u001b[39;00m\n\u001b[32m   (...)\u001b[39m\u001b[32m     11\u001b[39m \u001b[33;03m    :return:\u001b[39;00m\n\u001b[32m     12\u001b[39m \u001b[33;03m    \"\"\"\u001b[39;00m\n\u001b[32m---> \u001b[39m\u001b[32m13\u001b[39m     \u001b[38;5;28;01mraise\u001b[39;00m \u001b[38;5;167;01mRuntimeError\u001b[39;00m(error)\n",
      "\u001b[31mRuntimeError\u001b[39m: Failed to open ./img/arabidopsis.jpg"
     ]
    }
   ],
   "source": [
    "img, path, filename = pcv.readimage(filename=args.image1)"
   ]
  },
  {
   "cell_type": "code",
   "execution_count": null,
   "id": "c4175fd3-e56f-4883-b58e-fb544eb8a5fb",
   "metadata": {},
   "outputs": [],
   "source": [
    "# Crop the image down to focus on just one plant\n",
    "\n",
    "crop_img = pcv.crop(img=img, x=600, y=1500, h=400, w=500)"
   ]
  },
  {
   "cell_type": "markdown",
   "id": "85bf2dd1-7aaa-4811-9701-179da7c4d5c0",
   "metadata": {},
   "source": [
    "Use `plantcv.visualize.colorspaces` to visualize colorspaces with good contrast between target object (plant) and background. In this case the A channel has good contrast between plants and background. This step would not go into a workflow when you run it in parallel"
   ]
  },
  {
   "cell_type": "code",
   "execution_count": null,
   "id": "5b4d69b4-6d80-4167-8e3a-710e455a9b1b",
   "metadata": {},
   "outputs": [],
   "source": [
    "colorspace_img = pcv.visualize.colorspaces(rgb_img=img)"
   ]
  },
  {
   "cell_type": "code",
   "execution_count": null,
   "id": "12fbb9c5-47d4-4f01-94bc-8e59afc9f25d",
   "metadata": {},
   "outputs": [],
   "source": [
    "# Convert image from RGB color space to LAB and keep only the green-magenta channel \n",
    "\n",
    "a = pcv.rgb2gray_lab(rgb_img=crop_img, channel='a')"
   ]
  },
  {
   "cell_type": "markdown",
   "id": "47138fbe-3c3d-460d-bb95-576dc656f397",
   "metadata": {},
   "source": [
    "Use `pcv.visualize.histogram` to aid in picking a value for binary threshold (next step).\n",
    "This step would not go into a workflow when you run it in parallel."
   ]
  },
  {
   "cell_type": "code",
   "execution_count": null,
   "id": "30966e97-89cb-470a-bd08-3fa10d7791c3",
   "metadata": {},
   "outputs": [],
   "source": [
    "hist_figure1 = pcv.visualize.histogram(a, bins=50)\n"
   ]
  },
  {
   "cell_type": "code",
   "execution_count": null,
   "id": "bcca8360-86f5-43e0-822f-be2f7e5eb137",
   "metadata": {},
   "outputs": [],
   "source": [
    "# Set a binary threshold on the image \n",
    "\n",
    "img_binary = pcv.threshold.binary(gray_img=a, threshold=110, object_type='dark')\n"
   ]
  },
  {
   "cell_type": "code",
   "execution_count": null,
   "id": "b89bfa52-2d4f-4dac-b6fa-ee6cd1a722ad",
   "metadata": {},
   "outputs": [],
   "source": [
    "# Fill small noise\n",
    "\n",
    "fill_image = pcv.fill(bin_img=img_binary, size=200)"
   ]
  },
  {
   "cell_type": "code",
   "execution_count": null,
   "id": "772cfaa9-8df1-43e2-8700-517bc45107a3",
   "metadata": {},
   "outputs": [],
   "source": [
    "# Apply binary mask to original cropped image\n",
    "\n",
    "masked = pcv.apply_mask(img=crop_img, mask=fill_image, mask_color=\"black\")"
   ]
  },
  {
   "cell_type": "code",
   "execution_count": null,
   "id": "eb4ebe5b-f0ea-4996-8ce2-bc3f492942c8",
   "metadata": {},
   "outputs": [],
   "source": [
    "# Apply Watershed Segmentation Function\n",
    "\n",
    "analysis_images = pcv.watershed_segmentation(rgb_img=masked, mask=fill_image, distance=15, label=\"default\")\n"
   ]
  },
  {
   "cell_type": "markdown",
   "id": "6a51b26c-bdf4-4e53-9d09-6c6a0cd3f4d7",
   "metadata": {},
   "source": [
    "Print Number of objects just to see result.\n",
    "This step would not go into a workflow when you run it in parallel"
   ]
  },
  {
   "cell_type": "code",
   "execution_count": null,
   "id": "dcfda033-33da-4e57-8e15-d780dc06f66c",
   "metadata": {},
   "outputs": [],
   "source": [
    "count=pcv.outputs.observations[\"default\"][\"estimated_object_count\"][\"value\"]\n",
    "print(count)"
   ]
  },
  {
   "cell_type": "markdown",
   "id": "0f0dc19a-19b5-4c51-91cd-cc3dd7284bc7",
   "metadata": {},
   "source": [
    "The save results function will take the measurements stored when running any PlantCV analysis functions, format, \n",
    "and print an output text file for data analysis. If no functions have been run, it will print an empty text file. For more information see: https://plantcv.readthedocs.io/en/latest/output_measurements/"
   ]
  },
  {
   "cell_type": "code",
   "execution_count": null,
   "id": "82cb90e7-2456-4965-b22e-224d70a11657",
   "metadata": {
    "tags": []
   },
   "outputs": [],
   "source": [
    "pcv.outputs.save_results(filename=args.result, outformat=\"json\")"
   ]
  }
 ],
 "metadata": {
  "kernelspec": {
   "display_name": "Python 3 (ipykernel)",
   "language": "python",
   "name": "python3"
  },
  "language_info": {
   "codemirror_mode": {
    "name": "ipython",
    "version": 3
   },
   "file_extension": ".py",
   "mimetype": "text/x-python",
   "name": "python",
   "nbconvert_exporter": "python",
   "pygments_lexer": "ipython3",
   "version": "3.11.12"
  }
 },
 "nbformat": 4,
 "nbformat_minor": 5
}
